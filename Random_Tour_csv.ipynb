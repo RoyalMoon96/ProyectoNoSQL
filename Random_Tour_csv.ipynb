{
 "cells": [
  {
   "cell_type": "code",
   "execution_count": 1,
   "metadata": {},
   "outputs": [],
   "source": [
    "import pandas as pd\n",
    "import numpy as np\n",
    "from datetime import datetime, timedelta"
   ]
  },
  {
   "cell_type": "code",
   "execution_count": 2,
   "metadata": {},
   "outputs": [],
   "source": [
    "n_rows = 10000\n",
    "np.random.seed(42) "
   ]
  },
  {
   "cell_type": "markdown",
   "metadata": {},
   "source": [
    "### **Tours**"
   ]
  },
  {
   "cell_type": "code",
   "execution_count": 3,
   "metadata": {},
   "outputs": [],
   "source": [
    "def generate_tour_names(n):\n",
    "    adjectives = [\n",
    "        \"Amazing\", \"Beautiful\", \"Epic\", \"Grand\", \"Hidden\", \"Adventurous\", \n",
    "        \"Mysterious\", \"Breathtaking\", \"Majestic\", \"Enchanted\", \"Serene\", \n",
    "        \"Legendary\", \"Untamed\", \"Timeless\", \"Stunning\", \"Vibrant\", \n",
    "        \"Wild\", \"Daring\", \"Uncharted\", \"Timeless\", \"Glorious\", \"Mystical\", \n",
    "        \"Glistening\", \"Radiant\", \"Exhilarating\", \"Incredible\", \"Fantastic\"\n",
    "    ]\n",
    "\n",
    "    nouns = [\n",
    "        \"Adventure\", \"Expedition\", \"Journey\", \"Experience\", \"Trail\", \n",
    "        \"Escape\", \"Discovery\", \"Odyssey\", \"Quest\", \"Voyage\", \"Saga\", \n",
    "        \"Exploration\", \"Trek\", \"Realm\", \"Encounter\", \"Ascent\", \n",
    "        \"Conquest\", \"Horizon\", \"Path\", \"Mission\", \"Excursion\", \n",
    "        \"Venture\", \"Journey\", \"Legacy\", \"Challenge\", \"Pursuit\"\n",
    "    ]\n",
    "\n",
    "    return [f\"{np.random.choice(adjectives)} {np.random.choice(nouns)}\" for _ in range(n)]"
   ]
  },
  {
   "cell_type": "code",
   "execution_count": 4,
   "metadata": {},
   "outputs": [],
   "source": [
    "def generate_locations(n):\n",
    "    locations = [\n",
    "        \"Paris\", \"New York\", \"Tokyo\", \"Sydney\", \"Rome\", \"London\", \"Barcelona\", \n",
    "        \"Dubai\", \"Cancun\", \"Amsterdam\", \"Maldives\", \"Singapore\", \"Los Angeles\", \n",
    "        \"Rio de Janeiro\", \"Vancouver\", \"Istanbul\", \"Bangkok\", \"Buenos Aires\", \n",
    "        \"Florence\", \"Venice\", \"Santorini\", \"Kyoto\", \"Bali\", \"Prague\", \"Hawaii\", \n",
    "        \"Maui\", \"Hong Kong\", \"Las Vegas\", \"Orlando\", \"Mexico City\", \"Marrakech\", \n",
    "        \"Cairo\", \"Edinburgh\", \"Athens\", \"San Francisco\", \"Niagara Falls\", \n",
    "        \"Grand Canyon\", \"Stockholm\", \"Berlin\", \"Vienna\", \"Seoul\", \"Tulum\", \n",
    "        \"Caribe\", \"Petra\", \"Bora Bora\", \"Machu Picchu\"\n",
    "    ]\n",
    "\n",
    "    return np.random.choice(locations, n)"
   ]
  },
  {
   "cell_type": "code",
   "execution_count": 5,
   "metadata": {},
   "outputs": [],
   "source": [
    "data = {\n",
    "    \"tour_name\": generate_tour_names(n_rows),\n",
    "    \"location\": generate_locations(n_rows),\n",
    "    \"duration_days\": np.random.randint(1, 8, n_rows),\n",
    "    \"price_per_person\": np.round(np.random.uniform(100, 2000, n_rows), 2),\n",
    "    \"start_date\": [datetime.now() + timedelta(days=np.random.randint(1, 365)) for _ in range(n_rows)],\n",
    "    \"max_participants\": np.random.randint(5, 50, n_rows)\n",
    "}"
   ]
  },
  {
   "cell_type": "code",
   "execution_count": 6,
   "metadata": {},
   "outputs": [],
   "source": [
    "start_dates = data[\"start_date\"]\n",
    "duration_days = data[\"duration_days\"]\n",
    "data[\"end_date\"] = [start_date + timedelta(days=int(duration)) for start_date, duration in zip(start_dates, duration_days)]"
   ]
  },
  {
   "cell_type": "code",
   "execution_count": 7,
   "metadata": {},
   "outputs": [],
   "source": [
    "tours_df = pd.DataFrame(data)"
   ]
  },
  {
   "cell_type": "code",
   "execution_count": 8,
   "metadata": {},
   "outputs": [],
   "source": [
    "tours_df.to_csv(\"tours_data.csv\", index=False)"
   ]
  },
  {
   "cell_type": "markdown",
   "metadata": {},
   "source": [
    "### **Users**"
   ]
  },
  {
   "cell_type": "code",
   "execution_count": 9,
   "metadata": {},
   "outputs": [],
   "source": [
    "def generate_usernames(n):\n",
    "    prefixes = [\n",
    "        \"cool\", \"smart\", \"happy\", \"fast\", \"pro\", \"super\", \"mega\", \"neo\", \"semi\", \n",
    "        \"ninja\", \"epic\", \"wild\", \"legend\", \"cyber\", \"atomic\", \"ultra\", \"dark\", \n",
    "        \"mighty\", \"stealth\", \"xtreme\", \"rapid\", \"power\", \"future\", \"tech\", \n",
    "        \"brave\", \"mystic\", \"swift\", \"thunder\", \"supernova\", \"alpha\", \"elite\", \n",
    "        \"glitch\", \"storm\", \"max\", \"king\", \"boss\"\n",
    "    ]\n",
    "\n",
    "    suffixes = [\n",
    "        \"hero\", \"master\", \"genius\", \"dev\", \"ninja\", \"you\", \"123\", \"234\", \"345\", \n",
    "        \"king\", \"champ\", \"boss\", \"guru\", \"x\", \"y\", \"z\", \"elite\", \"ace\", \"pro\", \n",
    "        \"god\", \"hacker\", \"wizard\", \"warrior\", \"champion\", \"quest\", \"titan\", \n",
    "        \"soul\", \"shooter\", \"viper\", \"zero\", \"one\", \"savage\", \"vortex\", \"gamer\", \n",
    "        \"spark\", \"force\", \"snipe\", \"blaze\", \"storm\"\n",
    "    ]\n",
    "\n",
    "    return [f\"{np.random.choice(prefixes)}_{np.random.choice(suffixes)}\" for _ in range(n)]"
   ]
  },
  {
   "cell_type": "code",
   "execution_count": 10,
   "metadata": {},
   "outputs": [],
   "source": [
    "def generate_real_names(n):\n",
    "    first_names = [\n",
    "        \"Ali\", \"Eli\", \"Diego\", \"Giselle\", \"Gissele\", \"Janetzy\", \"Albaro\", \n",
    "        \"Salome\", \"Tristan\", \"Sofia\", \"Karla\", \n",
    "        \"Mateo\", \"Valeria\", \"Camila\", \"Andres\", \"Mariana\", \n",
    "        \"Lucia\", \"Fernando\", \"Emiliano\", \"Isabella\", \"Javier\", \n",
    "        \"Ana\", \"Dario\", \"Renata\", \"Hugo\", \"Victoria\", \n",
    "        \"Oliver\", \"Gabriel\", \"Bianca\", \"Samuel\", \"Daniela\", \n",
    "        \"Sebastian\", \"Claudia\", \"Nicolas\", \"Elena\", \"Leandro\", \n",
    "        \"Alma\", \"Ivanna\", \"Ricardo\", \"Noah\", \"Manuel\", \"Adriana\"\n",
    "    ]       \n",
    "\n",
    "    last_names = [\n",
    "        \"Tino\", \"Rios\", \"Alvarado\", \"Nieto\", \"Gomez\", \"Aguilar\", \"Flores\", \n",
    "        \"Hernandez\", \"Lopez\", \"Martinez\", \"Perez\", \"Rodriguez\", \n",
    "        \"Sanchez\", \"Vargas\", \"Castro\", \"Ortiz\", \"Ruiz\", \n",
    "        \"Ramirez\", \"Cruz\", \"Torres\", \"Morales\", \"Vega\", \n",
    "        \"Gutierrez\", \"Mendoza\", \"Jimenez\", \"Navarro\", \"Garcia\", \n",
    "        \"Diaz\", \"Reyes\", \"Silva\", \"Campos\", \"Valencia\", \n",
    "        \"Fuentes\", \"Cabrera\", \"Pineda\", \"Mejia\", \"Acosta\", \"Orozco\",\n",
    "        \"Romero\", \"Chavez\", \"Serrano\", \"Padilla\", \"Delgado\"\n",
    "    ]\n",
    "\n",
    "    return [f\"{np.random.choice(first_names)} {np.random.choice(last_names)}\" for _ in range(n)]"
   ]
  },
  {
   "cell_type": "code",
   "execution_count": 11,
   "metadata": {},
   "outputs": [],
   "source": [
    "def generate_emails(usernames):\n",
    "    domains = [\"gmail.com\", \"yahoo.com\", \"outlook.com\", \"live.com\"]\n",
    "    return [f\"{username}@{np.random.choice(domains)}\" for username in usernames]"
   ]
  },
  {
   "cell_type": "code",
   "execution_count": 12,
   "metadata": {},
   "outputs": [],
   "source": [
    "def generate_states(n):\n",
    "    states = [\n",
    "        \"California\", \"Texas\", \"New York\", \"Florida\", \"Illinois\", \"Nevada\", \n",
    "        \"Oregon\", \"Arizona\", \"Colorado\", \"Washington\", \"Georgia\", \"North Carolina\", \n",
    "        \"Michigan\", \"Ohio\", \"Pennsylvania\", \"Virginia\", \"Tennessee\", \"Massachusetts\", \n",
    "        \"Indiana\", \"Missouri\", \"Wisconsin\", \"North Dakota\", \"South Carolina\", \n",
    "        \"Alabama\", \"Louisiana\", \"Kentucky\", \"Maine\", \"New Jersey\", \n",
    "        \"Minnesota\", \"Connecticut\", \"Iowa\", \"Kansas\", \"Arkansas\", \n",
    "        \"Utah\", \"West Virginia\", \"Hawaii\", \"Idaho\", \"Montana\", \n",
    "        \"Wyoming\", \"Delaware\", \"Alaska\", \"Nebraska\", \"Rhode Island\"\n",
    "    ]\n",
    "\n",
    "    return np.random.choice(states, n)"
   ]
  },
  {
   "cell_type": "code",
   "execution_count": 13,
   "metadata": {},
   "outputs": [],
   "source": [
    "usernames = generate_usernames(n_rows)\n",
    "data = {\n",
    "    \"username\": usernames,\n",
    "    \"age\": np.random.randint(18, 70, n_rows),\n",
    "    \"state\": generate_states(n_rows),\n",
    "    \"real_name\": generate_real_names(n_rows),\n",
    "    \"email\": generate_emails(usernames),\n",
    "}"
   ]
  },
  {
   "cell_type": "code",
   "execution_count": 14,
   "metadata": {},
   "outputs": [],
   "source": [
    "users_df = pd.DataFrame(data)"
   ]
  },
  {
   "cell_type": "code",
   "execution_count": 15,
   "metadata": {},
   "outputs": [],
   "source": [
    "users_df.to_csv(\"users_data.csv\", index=False)"
   ]
  },
  {
   "cell_type": "markdown",
   "metadata": {},
   "source": [
    "### **Tours and Users**"
   ]
  },
  {
   "cell_type": "code",
   "execution_count": 16,
   "metadata": {},
   "outputs": [],
   "source": [
    "tours_users_df = pd.concat([tours_df, users_df], axis=1)"
   ]
  },
  {
   "cell_type": "code",
   "execution_count": 17,
   "metadata": {},
   "outputs": [],
   "source": [
    "tours_users_df.to_csv(\"tours_users_df.csv\", index=False)"
   ]
  }
 ],
 "metadata": {
  "kernelspec": {
   "display_name": "Python 3",
   "language": "python",
   "name": "python3"
  },
  "language_info": {
   "codemirror_mode": {
    "name": "ipython",
    "version": 3
   },
   "file_extension": ".py",
   "mimetype": "text/x-python",
   "name": "python",
   "nbconvert_exporter": "python",
   "pygments_lexer": "ipython3",
   "version": "3.11.0"
  }
 },
 "nbformat": 4,
 "nbformat_minor": 2
}
